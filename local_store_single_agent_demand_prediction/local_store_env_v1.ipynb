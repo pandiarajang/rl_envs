{
 "cells": [
  {
   "cell_type": "markdown",
   "metadata": {},
   "source": [
    "### Revision: \n",
    "\n",
    "- Includes seasional attributes for environment.''' \n",
    "\n",
    "- It uses demand-forecasting-kernels-only training data match the demand using week of the year and day of the week.   \n",
    "\n",
    "- Data: Store 1, Item 2, Year 2017"
   ]
  },
  {
   "cell_type": "markdown",
   "metadata": {},
   "source": [
    "#### Prepare dataset to simulate the local store environment"
   ]
  },
  {
   "cell_type": "code",
   "execution_count": 8,
   "metadata": {
    "id": "9FiPlE0GvPE1"
   },
   "outputs": [],
   "source": [
    "from gym import spaces\n",
    "import gym\n",
    "import pandas as pd \n",
    "import numpy as np \n",
    "import time\n",
    "import warnings\n",
    "warnings.filterwarnings(\"ignore\")\n",
    "\n",
    "m = 60\n",
    "class LocalStoreEnv(gym.Env):\n",
    "    \"\"\"\n",
    "    Description:\n",
    "        State  : day of the week\n",
    "        Reward : 1 if it meets the demand -1 if exceeds the demand -1 if it doesn't meet the demand\n",
    "        Inventory: capacity of the shelf default = 10\n",
    "    \"\"\"\n",
    "\n",
    "    metadata = {\"render.modes\": [\"human\", \"rgb_array\"], \"video.frames_per_second\": m}\n",
    "\n",
    "     # returns demand value for a given day of week and week of year from existing historical load\n",
    "\n",
    "    def demand(self, day_of_week,week_of_year):\n",
    "        demand_value_from_table =self.demand_data[self.demand_data.week == week_of_year][self.demand_data.day == day_of_week]['sales'].iat[0] \n",
    "        #return np.random.randint(demand_value_from_table-3,demand_value_from_table+4)\n",
    "        return np.random.poisson(demand_value_from_table)\n",
    "        #return demand_value_from_table\n",
    "    \n",
    "    def __init__(self):\n",
    "        self.tries = 0\n",
    "        \n",
    "        ############################\n",
    "        #Load Demand Seasional Data#\n",
    "        ############################\n",
    "        \n",
    "        self.demand_data = pd.read_csv('store1_item1_2017_sales.csv')\n",
    "        self.demand_data['date'] = self.demand_data['date'].astype('datetime64[ns]')\n",
    "        self.demand_data['week'] = self.demand_data.date.dt.week\n",
    "        self.demand_data['day'] = self.demand_data.date.dt.weekday\n",
    "        self.demand_data['sales'] = self.demand_data.sales.astype(int)\n",
    "        \n",
    "        ############################\n",
    "        #End of Loading Demand Data#\n",
    "        ############################\n",
    "        \n",
    "        self.start_time =  time.time()\n",
    "        self.log_time = time.time()\n",
    "        self.duration = 0\n",
    "        self.inventory = np.random.choice(np.arange(0,m+1))\n",
    "        self.action_space = spaces.Discrete(m+1)\n",
    "        self.observation_space = spaces.Discrete((m+1)*7*52)\n",
    "        self.day = np.random.choice((0,1,2,3,4,5,6))\n",
    "        self.week = np.random.choice((52,1,2,3,4,5,6,7,8,9,10,11,12,13,14,15,16,17,18,19,20,21,22,23,24,25,26,27,28,29,30,31,32,33,34,35,36,37,38,39,40,41,42,43,44,45,46,47,48,49,50,51))\n",
    "        #self.day = np.random.choice((0,1,2))\n",
    "        self.state = (self.inventory,self.day,self.week)\n",
    "        self.reset()\n",
    "        print(\"init\")\n",
    "\n",
    "        \n",
    "    def step(self, action):\n",
    "        print_interval = 1*30\n",
    "        end_week_of_the_year = 52\n",
    "        end_day_of_the_week = 6\n",
    "        end_of_the_year = (52,6)\n",
    "        #print_log = False\n",
    "        print_log = (time.time() - self.log_time) >= print_interval\n",
    "        if(print_log):\n",
    "         self.log_time = time.time()\n",
    "        #print_log = True\n",
    "        self.tries = self.tries+1\n",
    "        day_of_yesterday = self.state[1]-1\n",
    "        week_of_yesterday = self.state[2]\n",
    "        if(day_of_yesterday == -1):\n",
    "            day_of_yesterday = 6\n",
    "            week_of_yesterday = week_of_yesterday - 1\n",
    "        print_log = False\n",
    "        if(print_log):\n",
    "            print(\"Tries : {}, Yesterday Inventory :{} ,Today's Demand: {} , Today's order : {}\".format(self.tries,self.inventory,self.demand(self.day,self.week),action))\n",
    "        yesterday_inv = 0\n",
    "        if(self.state[0] >0):\n",
    "            yesterday_inv = self.state[0]\n",
    "        inv_today  = yesterday_inv+action # -self.demand(yesterday)\n",
    "        reward = 0\n",
    "        demand = self.demand(self.state[1],self.state[2])\n",
    "        if(abs(inv_today-demand) > 5):\n",
    "            reward = -1\n",
    "\n",
    "        reward = self.get_rewards(inv_today-demand,inv_today,demand)\n",
    "        tomorrow_inv = inv_today-self.demand(self.day,self.week)\n",
    "        self.inventory=max(min(tomorrow_inv,m),0)\n",
    "        \n",
    "        if(self.state[1]<end_day_of_the_week):\n",
    "            self.day=self.state[1]+1\n",
    "        else:\n",
    "            self.day=0\n",
    "            if(self.state[2]<end_week_of_the_year):\n",
    "                self.week = self.week+1\n",
    "            else:\n",
    "                self.week = 1\n",
    "\n",
    "        self.state = (self.inventory,self.day,self.week)\n",
    "        if(print_log):\n",
    "            print(\" Tomorrow's Inventory :{} , Today's inventory : {} ,Today's Demand: {}, reward {}\".format(self.inventory, inv_today,demand,reward))\n",
    "        return self.state, reward, False, {}\n",
    "    def get_rewards(self,diff,inventory,demand):\n",
    "        if(diff>0):\n",
    "            return -diff\n",
    "        else:\n",
    "            return diff\n",
    "    def reset(self):\n",
    "        return self.state\n",
    "\n",
    "    def render(self, mode=\"human\"):\n",
    "        print(\"Inventory :{} , Demand: {}\".format(self.inventory,self.demand(self.day,self.week)))\n",
    "\n",
    "    def close(self):\n",
    "        print(\"close\")"
   ]
  },
  {
   "cell_type": "code",
   "execution_count": 19,
   "metadata": {},
   "outputs": [
    {
     "name": "stdout",
     "output_type": "stream",
     "text": [
      "init\n"
     ]
    },
    {
     "data": {
      "text/plain": [
       "(31, 3, 28)"
      ]
     },
     "execution_count": 19,
     "metadata": {},
     "output_type": "execute_result"
    }
   ],
   "source": [
    "env = LocalStoreEnv()\n",
    "env.state"
   ]
  },
  {
   "cell_type": "code",
   "execution_count": 20,
   "metadata": {},
   "outputs": [
    {
     "data": {
      "text/plain": [
       "((5, 4, 28), -10, False, {})"
      ]
     },
     "execution_count": 20,
     "metadata": {},
     "output_type": "execute_result"
    }
   ],
   "source": [
    "env.step(0)"
   ]
  }
 ],
 "metadata": {
  "accelerator": "GPU",
  "colab": {
   "name": "q_learning_notebook_local_store-2.ipynb",
   "provenance": []
  },
  "kernelspec": {
   "display_name": "Python 3",
   "language": "python",
   "name": "python3"
  },
  "language_info": {
   "codemirror_mode": {
    "name": "ipython",
    "version": 3
   },
   "file_extension": ".py",
   "mimetype": "text/x-python",
   "name": "python",
   "nbconvert_exporter": "python",
   "pygments_lexer": "ipython3",
   "version": "3.7.6"
  }
 },
 "nbformat": 4,
 "nbformat_minor": 1
}
